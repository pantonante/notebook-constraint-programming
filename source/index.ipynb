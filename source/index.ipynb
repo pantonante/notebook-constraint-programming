{
 "cells": [
  {
   "cell_type": "code",
   "execution_count": null,
   "metadata": {
    "scrolled": true
   },
   "outputs": [],
   "source": [
    "%%capture\n",
    "%matplotlib inline\n",
    "%load_ext iminizinc\n",
    "import matplotlib.pyplot as plt\n",
    "import numpy as np\n",
    "import ipywidgets as widgets\n",
    "from ortools.constraint_solver import pywrapcp\n",
    "plt.ion()"
   ]
  },
  {
   "cell_type": "markdown",
   "metadata": {},
   "source": [
    "# Problem: n-Queens"
   ]
  },
  {
   "cell_type": "code",
   "execution_count": null,
   "metadata": {},
   "outputs": [],
   "source": [
    "queens_slider = widgets.IntSlider(\n",
    "    value=4,\n",
    "    min=1,\n",
    "    max=10,\n",
    "    step=1,\n",
    "    description='Queens:',\n",
    "    disabled=False,\n",
    "    continuous_update=False,\n",
    "    orientation='horizontal',\n",
    "    readout=True,\n",
    "    readout_format='d'\n",
    ")\n",
    "display(queens_slider)"
   ]
  },
  {
   "cell_type": "markdown",
   "metadata": {},
   "source": [
    "### Example with Google OR-Tools"
   ]
  },
  {
   "cell_type": "markdown",
   "metadata": {},
   "source": [
    "Model definition"
   ]
  },
  {
   "cell_type": "code",
   "execution_count": null,
   "metadata": {},
   "outputs": [],
   "source": [
    "solver = pywrapcp.Solver(\"n-queens\")\n",
    "n = int(queens_slider.value) # size of board (n x n)\n",
    "print(\"Queens: \", n)\n",
    "# declare variables\n",
    "q = [solver.IntVar(0, n - 1, \"x%i\" % i) for i in range(n)]\n",
    "\n",
    "# constraints\n",
    "solver.Add(solver.AllDifferent(q))\n",
    "for i in range(n):\n",
    "    for j in range(i):\n",
    "        solver.Add(q[i] != q[j])\n",
    "        solver.Add(q[i] + i != q[j] + j)\n",
    "        solver.Add(q[i] - i != q[j] - j)\n",
    "\n",
    "# solution and search\n",
    "solution = solver.Assignment()\n",
    "solution.Add([q[i] for i in range(n)])\n",
    "\n",
    "## Collector to get all solutions\n",
    "collector = solver.AllSolutionCollector(solution)"
   ]
  },
  {
   "cell_type": "code",
   "execution_count": null,
   "metadata": {},
   "outputs": [],
   "source": [
    "# Solve\n",
    "solver.Solve(\n",
    "  solver.Phase([q[i] for i in range(n)], solver.INT_VAR_SIMPLE,\n",
    "               solver.ASSIGN_MIN_VALUE), [collector])\n",
    "\n",
    "num_solutions_plain = collector.SolutionCount()"
   ]
  },
  {
   "cell_type": "code",
   "execution_count": null,
   "metadata": {},
   "outputs": [],
   "source": [
    "# Add a dumb symmetry breaking constraint\n",
    "solver.Add(q[0] == 1)\n",
    "\n",
    "# and solve it again\n",
    "solver.Solve(\n",
    "  solver.Phase([q[i] for i in range(n)], solver.INT_VAR_SIMPLE,\n",
    "               solver.ASSIGN_MIN_VALUE), [collector])\n",
    "\n",
    "num_solutions_symm = collector.SolutionCount()"
   ]
  },
  {
   "cell_type": "markdown",
   "metadata": {},
   "source": [
    "**Problem summary**"
   ]
  },
  {
   "cell_type": "markdown",
   "metadata": {
    "variables": {
     " n ": "4",
     " num_solutions_plain ": "2",
     " num_solutions_symm ": "1"
    }
   },
   "source": [
    "The n-Queens problem with **{{ n }}** queens has\n",
    "- {{ num_solutions_plain }} solutions if we allow symmetries\n",
    "- {{ num_solutions_symm }} solutions if we don't allow symmetries"
   ]
  },
  {
   "cell_type": "code",
   "execution_count": null,
   "metadata": {},
   "outputs": [],
   "source": [
    "### Example with MiniZinc"
   ]
  },
  {
   "cell_type": "code",
   "execution_count": null,
   "metadata": {},
   "outputs": [],
   "source": [
    "%%minizinc --all-solutions\n",
    "\n",
    "include \"globals.mzn\";\n",
    "int: n;\n",
    "array[1..n] of var 1..n: queens;\n",
    "constraint all_different(queens);\n",
    "constraint all_different([queens[i]+i | i in 1..n]);\n",
    "constraint all_different([queens[i]-i | i in 1..n]);\n",
    "solve :: int_search(queens, input_order, indomain_min, complete) satisfy;"
   ]
  },
  {
   "cell_type": "code",
   "execution_count": null,
   "metadata": {},
   "outputs": [],
   "source": [
    "solutions = _\n",
    "num_solutions_plain = len(solutions)"
   ]
  },
  {
   "cell_type": "code",
   "execution_count": null,
   "metadata": {},
   "outputs": [],
   "source": [
    "%%minizinc --all-solutions\n",
    "\n",
    "include \"globals.mzn\";\n",
    "int: n;\n",
    "array [1..n] of var 1..n: queens;\n",
    "\n",
    "constraint all_different(queens);\n",
    "constraint all_different([queens[i]+i | i in 1..n]);\n",
    "constraint all_different([queens[i]-i | i in 1..n]);\n",
    "constraint queens[1] == 2;\n",
    "\n",
    "solve :: int_search(queens, input_order, indomain_min, complete) satisfy;"
   ]
  },
  {
   "cell_type": "code",
   "execution_count": null,
   "metadata": {},
   "outputs": [],
   "source": [
    "solutions = _\n",
    "num_solutions_symm = len(solutions)"
   ]
  },
  {
   "cell_type": "markdown",
   "metadata": {
    "variables": {
     " n ": "4",
     " num_solutions_plain ": "2",
     " num_solutions_symm ": "1"
    }
   },
   "source": [
    "The n-Queens problem with **{{ n }}** queens has\n",
    "- {{ num_solutions_plain }} solutions if we allow symmetries\n",
    "- {{ num_solutions_symm }} solutions if we don't allow symmetries"
   ]
  },
  {
   "cell_type": "code",
   "execution_count": null,
   "metadata": {},
   "outputs": [],
   "source": []
  }
 ],
 "metadata": {
  "kernelspec": {
   "display_name": "Python 3",
   "language": "python",
   "name": "python3"
  },
  "language_info": {
   "codemirror_mode": {
    "name": "ipython",
    "version": 3
   },
   "file_extension": ".py",
   "mimetype": "text/x-python",
   "name": "python",
   "nbconvert_exporter": "python",
   "pygments_lexer": "ipython3",
   "version": "3.6.6"
  }
 },
 "nbformat": 4,
 "nbformat_minor": 2
}
