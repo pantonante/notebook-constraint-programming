{
 "cells": [
  {
   "cell_type": "markdown",
   "metadata": {},
   "source": [
    "# Lecture Notes\n",
    "\n",
    "Instructions:\n",
    "\n",
    "> **Week k (week that group topics are presented in lecture)** <br>\n",
    "By Friday at 4pm, the group is required to submit their typed-up notes from that week’s\n",
    "lecture. This will form the basic outline of their deliverable and they will receive\n",
    "feedback from the TA on their work. <br><br>\n",
    "The group should also have an outline of the one outside paper that they intend to\n",
    "describe in greater detail."
   ]
  },
  {
   "cell_type": "markdown",
   "metadata": {},
   "source": [
    "## L13. Constraint Programming\n",
    "- Big picture\n",
    "- Viewing Sodoku and n-Queens as CSPs\n",
    "- Applications of CSPs\n",
    "- Tying to other course content"
   ]
  },
  {
   "cell_type": "markdown",
   "metadata": {},
   "source": [
    "## L14. Solving Constraint Programs - Propagation and Basic Search\n",
    "- Constraint propagation: Achieving arc consistency with AC-1 and AC-3\n",
    "- Examples on integer domains with algebra\n",
    "- Complexity of AC-1 and AC-3\n",
    "- Arc consistency: sound but not complete"
   ]
  },
  {
   "cell_type": "markdown",
   "metadata": {},
   "source": [
    "## L15. Solving Constraint Programs - Backtrack Search and Forward Checking\n",
    "- Narrative: show the largest reasonable n-Queens problem that can be solved for various solution methods\n",
    "- Combining inference with search\n",
    "    - Why standard search sucks\n",
    "    - Backtrack search\n",
    "- Constraint Optimization Problem: Branch & Bound\n",
    "- Forward Checking: Combining backtracking with **limited** constraint propagation\n",
    "- Dynamic variable ordering and BT-FC\n",
    "- \"Bucket Elimination\", a form of adaptive consistency (i.e., variable elimination)\n",
    "    - Viewing arc consistency as variable elimination\n",
    "\n",
    "###### Optional Content, Not Discussed in Lecture\n",
    "- Adaptive consistency is linear for trees\n",
    "- Iterative repair\n",
    "- Conflict-directed back jumping"
   ]
  }
 ],
 "metadata": {
  "kernelspec": {
   "display_name": "Python 3",
   "language": "python",
   "name": "python3"
  },
  "language_info": {
   "codemirror_mode": {
    "name": "ipython",
    "version": 3
   },
   "file_extension": ".py",
   "mimetype": "text/x-python",
   "name": "python",
   "nbconvert_exporter": "python",
   "pygments_lexer": "ipython3",
   "version": "3.6.6"
  }
 },
 "nbformat": 4,
 "nbformat_minor": 2
}
