{
 "cells": [
  {
   "cell_type": "markdown",
   "metadata": {},
   "source": [
    "# Lecture Notes\n",
    "\n",
    "Instructions:\n",
    "\n",
    "> **Week k (week that group topics are presented in lecture)** <br>\n",
    "By Friday at 4pm, the group is required to submit their typed-up notes from that week’s\n",
    "lecture. This will form the basic outline of their deliverable and they will receive\n",
    "feedback from the TA on their work. <br><br>\n",
    "The group should also have an outline of the one outside paper that they intend to\n",
    "describe in greater detail."
   ]
  },
  {
   "cell_type": "markdown",
   "metadata": {},
   "source": [
    "## L13. Constraint Programming\n",
    "\n",
    "### Big picture\n",
    "\n",
    "Constraint programming (CP) is a powerful tull to solve combinatorial optimization problems (e.g. planning, scheduling system design etc). Constraints arise in most areas of human endeavour. They basically formalize the relation among several unknowns (or variables), each taking a value in a given domain. The constraint thus restricts the possible values that variables can take, it represents partial information about the variables of interest. For instance, _\"The three angles of a triangle sum to 180 degrees\"_ relates each angle of the triangle without precisely specifying their values.\n",
    "\n",
    "Constraint programming is the study of computational systems based on constraints. The idea of constraint programming is to solve problems by stating constraints (requirements) about the problem area and, consequently, finding solution satisfying all the constraints.\n",
    "\n",
    "A Constraint Satisfaction Problems is usually referred as **CSP**, but it is worth noticing that any CSP can be trasformed in an optimization problem by simpy adding an objective function.\n",
    "\n",
    "### Viewing Sodoku and N-Queens as CSPs\n",
    "\n",
    "**N-Queens** The N-queens problem is a well know puzzle among computer scientists. Given any integer $N$, the problem is to place $N$ queens on a $N\\times N$ chessboard satisfying the constraint that no two queens threaten each other.\n",
    "\n",
    "<img src=\"images/nqueens.png\" align=\"center\"/>\n",
    "\n",
    "Where a queen threatens any other queens on the same row, column and diagonal.\n",
    "\n",
    "**Sudoku** Another well known puzzle that can be easly solved as CPSs is the Sudoku puzzle. Given a $9\\times 9$ grid partially filled with numbers from $1$ to $9$, the goal is to fill the grid entirely such that:\n",
    "\n",
    "- each $3\\times 3$ sub-grid contains all number fomr $1$ to $9$ once\n",
    "- each row contains all number fomr $1$ to $9$ once\n",
    "- each column contains all number fomr $1$ to $9$ once\n",
    "\n",
    "<table><tr>\n",
    "<td> <img src=\"images/start_sudoku.png\"/> </td>\n",
    "<td> <img src=\"images/end_sudoku.png\" /> </td>\n",
    "</tr></table>\n",
    "\n",
    "### How CSPs are (formally) defined\n",
    "\n",
    "With the two examples from above it is easy to understand how a constraint programming problem is defined. A **CSP** is defined by the triple $\\langle X,\\,D,\\,C \\rangle$, where\n",
    "- $X=\\{x_1,x_2,\\ldots,x_n\\}$ is the set of _variables_\n",
    "- $D=\\{D_1,D_2,\\ldots,D_n\\}$ is the set of _variable domains_, where $x_i\\in D_i$ for each $i\\in\\{ 1,\\ldots,n\\}$\n",
    "- $C=\\{C_1,C_2,\\ldots,C_k\\}$ is the set of _constraints_\n",
    "    - A Constraint $C_i = \\langle S_i,\\, R_i \\rangle$ specifies the allowed variable assignment, where\n",
    "    - The _scope_ $S_i$ is the set of variables it works on\n",
    "    - The _relation_ $R_i$ is a set of vilid assignments for $S_i$\n",
    "\n",
    "### Applications of CSPs\n",
    "\n",
    "TODO\n",
    "\n",
    "### Tying to other course content\n",
    "TODO"
   ]
  },
  {
   "cell_type": "markdown",
   "metadata": {},
   "source": [
    "## L14. Solving Constraint Programs - Propagation and Basic Search\n",
    "- Constraint propagation: Achieving arc consistency with AC-1 and AC-3\n",
    "- Examples on integer domains with algebra\n",
    "- Complexity of AC-1 and AC-3\n",
    "- Arc consistency: sound but not complete"
   ]
  },
  {
   "cell_type": "markdown",
   "metadata": {},
   "source": [
    "## L15. Solving Constraint Programs - Backtrack Search and Forward Checking\n",
    "- Narrative: show the largest reasonable n-Queens problem that can be solved for various solution methods\n",
    "- Combining inference with search\n",
    "    - Why standard search sucks\n",
    "    - Backtrack search\n",
    "- Constraint Optimization Problem: Branch & Bound\n",
    "- Forward Checking: Combining backtracking with **limited** constraint propagation\n",
    "- Dynamic variable ordering and BT-FC\n",
    "- \"Bucket Elimination\", a form of adaptive consistency (i.e., variable elimination)\n",
    "    - Viewing arc consistency as variable elimination\n",
    "\n",
    "###### Optional Content, Not Discussed in Lecture\n",
    "- Adaptive consistency is linear for trees\n",
    "- Iterative repair\n",
    "- Conflict-directed back jumping"
   ]
  }
 ],
 "metadata": {
  "kernelspec": {
   "display_name": "Python 3",
   "language": "python",
   "name": "python3"
  },
  "language_info": {
   "codemirror_mode": {
    "name": "ipython",
    "version": 3
   },
   "file_extension": ".py",
   "mimetype": "text/x-python",
   "name": "python",
   "nbconvert_exporter": "python",
   "pygments_lexer": "ipython3",
   "version": "3.6.6"
  }
 },
 "nbformat": 4,
 "nbformat_minor": 2
}
