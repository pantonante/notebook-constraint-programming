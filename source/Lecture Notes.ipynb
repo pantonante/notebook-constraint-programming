{
 "cells": [
  {
   "cell_type": "markdown",
   "metadata": {},
   "source": [
    "<div class=\"text-muted\">\n",
    "\n",
    "# Lecture Notes\n",
    "\n",
    "Instructions:\n",
    "\n",
    "> **Week k (week that group topics are presented in lecture)** <br>\n",
    "By Friday at 4pm, the group is required to submit their typed-up notes from that week’s\n",
    "lecture. This will form the basic outline of their deliverable and they will receive\n",
    "feedback from the TA on their work. <br><br>\n",
    "The group should also have an outline of the one outside paper that they intend to\n",
    "describe in greater detail.\n",
    "\n",
    "## L13. Constraint Programming\n",
    "- Big picture\n",
    "- Viewing Sodoku and n-Queens as CSPs\n",
    "- Constraint Modeling\n",
    "- Applications of CSPs\n",
    "- Tying to other course content\n",
    "\n",
    "## L14. Solving Constraint Programs - Propagation and Basic Search\n",
    "- Constraint propagation: Achieving arc consistency with AC-1 and AC-3\n",
    "- Examples on integer domains with algebra\n",
    "- Complexity of AC-1 and AC-3\n",
    "- Arc consistency: sound but not complete\n",
    "\n",
    "## L15. Solving Constraint Programs - Backtrack Search and Forward Checking\n",
    "- Narrative: show the largest reasonable n-Queens problem that can be solved for various solution methods\n",
    "- Combining inference with search\n",
    "    - Why standard search sucks\n",
    "    - Backtrack search\n",
    "- Constraint Optimization Problem: Branch & Bound\n",
    "- Forward Checking: Combining backtracking with **limited** constraint propagation\n",
    "- Dynamic variable ordering and BT-FC\n",
    "- \"Bucket Elimination\", a form of adaptive consistency (i.e., variable elimination)\n",
    "    - Viewing arc consistency as variable elimination\n",
    "\n",
    "###### Optional Content, Not Discussed in Lecture\n",
    "- Adaptive consistency is linear for trees\n",
    "- Iterative repair\n",
    "- Conflict-directed back jumping\n",
    "\n",
    "</div>"
   ]
  },
  {
   "cell_type": "markdown",
   "metadata": {},
   "source": [
    "---"
   ]
  },
  {
   "cell_type": "markdown",
   "metadata": {},
   "source": [
    "# Constraint Programming\n",
    "Topics: constraint propagation, search, variable elimination; global constraints; MVRP"
   ]
  },
  {
   "cell_type": "markdown",
   "metadata": {},
   "source": [
    "## 1. Introduction"
   ]
  },
  {
   "cell_type": "markdown",
   "metadata": {},
   "source": [
    "Constraints naturally arise in a variety of interactions and fields of study such as game theory, social studies, operations research, engineering, and artificial intelligence. A constraint refers to the relationship between the state of objects, such as the constraint that the three angles of a triangle must sum to 180 degrees. Note that this constraint has not precisely stated each angle's value and still allows some flexibility. Said another way, the triangle constraint restricts the values that the three variables (each angle) can take, thus providing information that will be useful in finding values for the three angles.\n",
    "\n",
    "Another example of a constrained problem comes from the recently-aired hit TV series *Buddies*, where a group of five (mostly mutual) friends would like to sit at a table with three chairs in specific arrangements at different times, but have requirements as to who they will and will not sit with.\n",
    "\n",
    "Another example comes from scheduling: at the university level, there is a large number of classes that must be scheduled in various classrooms such that no professor or classroom is double booked. Further, there are some constraints on which classes can be scheduled for the same time, as some students will need to be registered for both.\n",
    "\n",
    "Computers can be employed to solve these types of problems, but in general these tasks are computationally intractible and cannot be solved efficiently in all cases with a single algorithm [1]. However, by formalizing these types of problems in a constraint processing framework, we can identify classes of problems that can be solved using efficient algorithms.\n",
    "\n",
    "### 1.1. Modelling\n",
    "\n",
    "A **constraint satisfaction problem** (CSP) is formalized by a *constraint network*, which is the triple $\\langle V,D,C\\rangle$, where\n",
    "- $V = \\{V_i\\}_{i=1}^n$ is the set of $n$ variables\n",
    "- $D = \\{D_i\\}_{i=1}^n$ is the set of variable domains, where the domain of variable $V_k$ is $D_k$\n",
    "- $C = \\{C_i\\}_{i=1}^m$ is the set of constraints on the values that each $V_i$ can take on. Specifically,\n",
    "    - Each constraint $C_i = \\langle S_i,R_i\\rangle$ specifies allowed variable assignments.\n",
    "    - $S_i \\subset V$ contains the variables involved in the constraint, called the *scope* of the constraint.\n",
    "    - $R_i$ is the constraint's *relation* and represents the simultaneous legal value assignments of variables in the associated scope.\n",
    "        - For example, if scope of the first constraint is $S_1 = \\{V_3, V_8\\}$, then the relation $R_1$ is a subset of the Cartesian product of those variables' domains: $R_1 \\subset D_3 \\times D_8$, and an element of the relation $R_1$ could be written as a 2-tuple $(x,y)\\in R_1$.\n",
    "\n",
    "Note that for a CSP model, *any* consistent assignment of the variables (i.e., where all constraints are satisfied) constitutes a valid solution, it may not be the \"best\" solution. Notions of optimality can be captured by introducing an objective function which is used to find a valid solution with the lowest cost. This is referred to as a **constraint *optimization* problem** (COP). We will refer generally to CSPs with the understanding that a CSP can easily become a COP.\n",
    "\n",
    "### 1.1.1. Modelling as a Graph\n",
    "<div class=\"alert alert-danger\">\n",
    "<b>TODO:</b> Discuss the graphical view of constraints. Let's also assume that we are only considering binary CSPs and note that any n-connected CSP can be reformulated into an equivalent binary CSP.\n",
    "</div>\n",
    "\n",
    "### 1.2. Solving\n",
    "\n",
    "The goal of formalizing a CSP as a constraint network model is to efficiently solve it using computational algorithms and tools. **Constraint programming** (CP) is a powerful tool to solve combinatorial constraint problems and is the study of computational systems based on constraints. Once the problem has been modeled as a formal CSP, a variety of computable algorithms could be used to find a solution that satisfies all constraints. We will restrict ourselves to using CP to solve CSPs with **discrete, finite domains**.\n",
    "\n",
    "In general, there are two methods used to solve a CSP: search or inference. In previous 16.410/413 problems, **state-space search** was used to find the best path through some sort of graph or tree structure. Likewise, state-space search could be used to find a valid \"path\" through the CSP that satisfies each of the local constraints and is therefore a valid global solution. However, this approach would quickly become intractable as the number of variables and the size of each of their domains increase.\n",
    "\n",
    "In light of this, the second solution method becomes more attractive. **Constraint propagation**, a specific type of inference, is used to reduce the number of legal values from a variable's domain by pruning values that would violate the constraints of the given variable. By making a variable locally consistent with its constraints, the domain of adjacent variables may potentially be further reduced as a result of missing values in the pairwise constraint of the two variables. In this way, by making the first variable consistent with its constraints, the constraints of neighboring variables can be re-evaluated, causing a further reduction of domains through the propagation of constraints. These ideas will later be formalized as $k$-consistency.\n",
    "\n",
    "Constraint propagation may be combined with search, using the pros of both methods simultaneously. Alternatively, constraint propagation may be performed as a pre-processing pruning step so that search has a smaller state space to search over. Sometimes, constraint propagation is all that is required and a solution can be found without a search step at all.\n",
    "\n",
    "After giving examples of modelling CSPs, this notebook will explore a variety of solution methods based on constraint propagation and search."
   ]
  },
  {
   "cell_type": "markdown",
   "metadata": {},
   "source": [
    "---"
   ]
  },
  {
   "cell_type": "markdown",
   "metadata": {},
   "source": [
    "## 2. Modeling\n",
    "\n",
    "Given a constrained problem, it is desirable to identify an appropriate constraint network model $\\langle V,D,C\\rangle$ that can be used to find its solution. Modelling for CSPs is an important step that can dramatically affect the difficulty in enumerating the associated constraints or efficiency of finding a solution.\n",
    "\n",
    "### 2.1. Examples\n",
    "\n",
    "In this section, we consider two puzzle problems and model them as CSPs.\n",
    "\n",
    "<div class=\"alert alert-danger\">\n",
    "<b>TODO:</b> Make these models more formal?\n",
    "</div>\n",
    "\n",
    "### 2.1.1. Sudoku\n",
    "\n",
    "Sudoku is a well-known puzzle that can be easily solved using the CSP framework. Given a $9\\times 9$ grid partially filled with numbers from $1$ to $9$, the goal is to fill the grid entirely such that:\n",
    "\n",
    "- each $3\\times 3$ sub-grid contains all numbers from $1$ to $9$\n",
    "- each row contains all numbers from $1$ to $9$\n",
    "- each column contains all numbers from $1$ to $9$\n",
    "\n",
    "<table><tr>\n",
    "<td> <img src=\"images/start_sudoku.png\"/> </td>\n",
    "<td> <img src=\"images/end_sudoku.png\" /> </td>\n",
    "</tr></table>\n",
    "\n",
    "### 2.1.2. N-Queens\n",
    "\n",
    "The N-queens problem is a well-know puzzle among computer scientists. Given any integer $N$, the goal is to place $N$ queens on an $N\\times N$ chessboard satisfying the constraint that no two queens threaten each other. A queen can threaten any other queen that is on the same row, column, or diagonal.\n",
    "\n",
    "<img src=\"images/nqueens.png\" align=\"center\"/>"
   ]
  },
  {
   "cell_type": "markdown",
   "metadata": {},
   "source": [
    "---"
   ]
  },
  {
   "cell_type": "markdown",
   "metadata": {},
   "source": [
    "## 3. Constraint Propagation Methods\n",
    "\n",
    "Give an overview of consistency\n",
    "\n",
    "### 3.1. Node Consistency\n",
    "\n",
    "#### 3.1.1. Algorithm: REVISE\n",
    "\n",
    "- REVISE is a node consistency thing, right?\n",
    "\n",
    "### 3.2. Arc Consistency\n",
    "\n",
    "Talk about sound but not complete. Is consistency in general \"sound but not complete\", or is this just an arc consistency thing?\n",
    "\n",
    "#### 3.2.1. Algorithm: AC-1\n",
    "\n",
    "- Give the algorithm\n",
    "- Discuss complexity\n",
    "\n",
    "#### 3.2.2. Algorithm: AC-3\n",
    "\n",
    "- Give the algorithm\n",
    "- Discuss complexity\n",
    "\n",
    "### 3.3. Path Consistency (<-- Should we do this?)\n",
    "\n",
    "### 3.4. $k$-Consistency (<-- Should we do this?)\n",
    "\n",
    "### 3.5. Example: integer domains with algebra\n",
    "\n",
    "- Is this where **global constraints** can be discussed? It looks like that's how Russell and Norvig do it."
   ]
  },
  {
   "cell_type": "markdown",
   "metadata": {},
   "source": [
    "---"
   ]
  },
  {
   "cell_type": "markdown",
   "metadata": {},
   "source": [
    "## 4. Search Methods\n",
    "\n",
    "### 4.1. Standard Search (<-- Should we do this?)\n",
    "\n",
    "### 4.2. Backtrack (BT) Search"
   ]
  },
  {
   "cell_type": "markdown",
   "metadata": {},
   "source": [
    "---"
   ]
  },
  {
   "cell_type": "markdown",
   "metadata": {},
   "source": [
    "## 5. Hybrid Methods\n",
    "\n",
    "### 5.1. BT Search with Forward Checking (BT-FC)\n",
    "\n",
    "### 5.2. BT-FC with Dynamic Variable Ordering\n",
    "\n",
    "### 5.3. Adaptive Consistency: Bucket Elimination"
   ]
  },
  {
   "cell_type": "markdown",
   "metadata": {},
   "source": [
    "---"
   ]
  },
  {
   "cell_type": "markdown",
   "metadata": {},
   "source": [
    "# Symmetries\n",
    "\n",
    "<img src=\"images/escher_2.jpg\" align=\"center\"/>\n",
    "<div style=\"text-align: right\"> M. C. Escher </div>\n",
    "\n",
    "\n",
    "## Introduction\n",
    "\n",
    "A CSP often exhibit some symmetries, which are mappings that preserve satisfiability of the CSP. They are particularly harmful when we are looking for all possible valid assignment of a CSP since symmetries have many solutions that are just a symmetric solution of another one.\n",
    "\n",
    "> **Definition (Symmetry).** For any CSP instance $P = \\langle X, D, C \\rangle$, a solution symmetry of $P$ is a permutation of the set $X\\times D$ that preserves the set of solutions to $P$.\n",
    "\n",
    "In other words, a solution symmetry is a bijective mapping defined on the set of possible variable-value pairs of a CSP, that maps solutions to solutions.\n",
    "\n",
    "## Why is symmetry important? \n",
    "\n",
    "A principal reason for identifying symmetry in CSPs is to reduce search effort by not exploring assignments that are symmetrically equivalent to assignments considered elsewhere in the search. Clearly, if the solution symmetry group is larger than the constraint symmetry group, there will potentially be a greater search reduction from using the solution symmetries, if they can somehow be identified in advance.\n",
    "\n",
    "\n",
    "## Case Study: symmetries in N-Queens problem\n",
    "\n",
    "The standard formulation of the N-Queens problem as a CSP has $N$ variables corresponding to the rows of the chessboard, say $Q_1,Q_2,\\ldots,Q_n$. The domain of values corresponds to the columns of the chessboard, say $D = \\{1, 2,\\ldots, n\\}$. The constraints can be expressed as follows:\n",
    "- the values of $Q_1, Q_2, \\ldots, Q_n$ are all different; \n",
    "- forall $i,j,1\\leq i< j \\leq N,|Q_i−Q_j \\neq |i−j|$.\n",
    "\n",
    "A chessboard has eight geometric symmetries: \n",
    "- horizontal reflection $r_h$\n",
    "- vertical reflection $r_v$\n",
    "- reflectins along the two diagonal axes ($r_{d_1}$ and $r_{d_2}$)\n",
    "- rotations through $90$&deg;, $180$&deg; and $270$&deg ($r_{90}$, $r_{180}$, $r_{270}$)\n",
    "- identity (no-reflections) $r_I$\n",
    "\n",
    "We can group all the symmetries in $G = \\{r_I, r_h,r_v, r_{d_1}, r_{d_2},r_{90}, r_{180}, r_{270} \\}$\n",
    "For the seek of simplicity let's denote $A^g$, with $g\\inG$ as the result of the application of symmetry $g$ to $A$. For example, in the 4-Queens problem $(Q_1 = 2)^{r_{90}} = (Q_2=4)$.\n",
    "\n",
    "An example can be given by the 4-Queens problem, all the solutions are the following\n",
    "\n",
    "<img src=\"images/two-queens_symmetries.png\" align=\"center\"/>\n",
    "\n",
    "It's easy to note that the second solution is the first solution when we flip the chessboard horizontally.\n",
    "\n"
   ]
  },
  {
   "cell_type": "markdown",
   "metadata": {},
   "source": [
    "## Avoid symmetries\n",
    "\n",
    "### Adding Constraints Before Search\n",
    "\n",
    "Symmetry in CSPs is usually identified, in practice, by applying human insight: the programmer sees that some transformation would transform a hypothetical solution into another hypothetical solution. Then the programmer can try to formalize some constraint that preserve solutions but remove some of the symmetries.\n",
    "\n",
    "<div class=\"alert alert-block alert-danger\">\n",
    "<b>TODO:</b> Example of N-Queens problem with broken symmetries through additional constraints\n",
    "</div>\n",
    "\n",
    "This approach is fine if done correctly, but can obviously lose solutions if done incorrectly.\n",
    "\n",
    "\n",
    "### Dynamic Symmetry Breaking Methods\n",
    "\n",
    "Dynamic symmetry breaking methods are those that operate to break symmetry during the search process, avoiding some brach of the search tree that are symmetrically equivalent to others. Let's explore some of them.\n",
    "\n",
    "#### Symmetry Breaking During Search (SBDS)\n",
    "\n",
    "The basic idea of SBDS (this is the name of the algorithm, not a class for them) is to add constraints to a problem so that, after backtracking from a search decision, the SBDS constraints ensure that no symmetric equivalent of that decision is ever allowed. This is a dynamic technique, since we cannot add the constraints until we know what search decision is being made.\n",
    "\n",
    "<div class=\"alert alert-block alert-danger\">\n",
    "<b>TODO:</b> Example search tree for SBDS\n",
    "</div>\n",
    "\n",
    "A big drawback of this agorithm is that it always demand from the constraint programmer to explicitly state all symmetries $g\\in G$a. If a problem has a large number of symmetries there may be too many for the user to identify and implement by hand.\n",
    "\n",
    "### The Lex-Leader Method\n",
    "\n",
    "Puget proved that whenever a CSP has symmetry [2], it is possible to find a _'reduced form'_, with the symmetries eliminated, by adding constraints to the original problem. Puget found such a reduction for three simple constraint problems, and showed that this reduced CSP could be solved more efficiently than in its original form. From this work a method called **lex-leader** was developed, the background idea is rather simple, for each equivalence class of solutions under our symmetry group, we will predefine one to be the canonical solution. We will achieve this by choosing a static variable ordering. \n",
    "\n",
    "For example let's consider a problem where we have three variables $x_1$ $x_2$ and $x_3$ subject to `alldifferent` constraint and domain $\\{1,2,3\\}$. This problem has $3!$ solutions, the easiest way to impose a canonical solution is to impose that $x_1 \\leq x_2 \\leq x_3$, that is the _lexicographic_ ordering. Adding this additional constraint we will get exactly one solution. All the other can be recovered applying all the symmetries.\n",
    "\n",
    "In general the lex-leader method impose a variable ordering for Each permutation in the symmetry group, formally\n",
    "\n",
    "$$ \\forall g \\in G, \\, A\\preceq_{\\text{lex }} A^g $$\n",
    "\n",
    "<div class=\"alert alert-block alert-danger\">\n",
    "<b>TODO:</b> Example of model with/without lex-leader\n",
    "</div>\n",
    "\n",
    "An important practical issue with the lex-leader constraints is that they do not “respect” the variable and value ordering heuristics used in search. That is, it may well be that the leftmost solution in the search tree, which would otherwise be found first, is not canonical and so is disallowed, leading to increased search. This is in contrast to techniques such as SBDS, which do respect the heuristic.\n",
    "\n",
    "#### Double-Lex\n",
    "\n",
    "A matrix of decision variables has row symmetry iff given a solution, any permutation of the rows is also a solution. Similarly, it has column symmetry iff given a solution, any permutation of the columns is also a solution.  Row and column symmetry occurs in many mod- els with matrices of decision variable. We have seen that that we can add $n!m!$  constraints to break all the symmetries. Adding so many constraints can be counter-productive. A common approach is order the rows of a matrix and **independently** order the columns. This produces only $n + m − 2$ symmetry breaking constraints. This method is called **double-lex** and has the disadvantage of breaking only some of the symmetries.\n",
    "\n",
    "<div class=\"alert alert-block alert-danger\">\n",
    "<b>TODO:</b> Example of the same model as before but with double-lex\n",
    "</div>"
   ]
  },
  {
   "cell_type": "markdown",
   "metadata": {},
   "source": [
    "## Intractability of Breaking Symmetry\n",
    "\n",
    "\n",
    "It is worth to mention that lex-leader requires one constraint for each element of the group. \n",
    "In the case of a matrix with $m$ rows and $n$ columns, this is $m!n!$, which is impractical in general. Therefore there are many cases where lex-leader is applicable but impractical.\n",
    "\n",
    "> **Theorem (Walsh 2011)** Given any _simple_ ordering, there exists a symmetry group such that deciding if an as- signment is smallest in its symmetry class according to this ordering is NP-hard.\n",
    "\n",
    "Since breaking symmetry appears intractable in gen- eral, a major research direction is to identify special cases which occur in practice where the symmetry group is more tractable to break.\n",
    "\n",
    "> **Theorem (Katsirelos, Narodytska, and Walsh 2010)** Propagating the double-lex constraint is NP-hard."
   ]
  },
  {
   "cell_type": "markdown",
   "metadata": {},
   "source": [
    "# References\n",
    "\n",
    "- [1] Rina Dechter. 2003. Constraint Processing. Morgan Kaufmann Publishers Inc., San Francisco, CA, USA.\n",
    "- [2] J.-F. Puget. On the satisfiability of symmetrical constraint satisfaction problems. In Methodologies for Intelligent Systems (Proceedings of ISMIS’93), LNAI 689, pages 350–361. Springer, 1993."
   ]
  },
  {
   "cell_type": "code",
   "execution_count": null,
   "metadata": {},
   "outputs": [],
   "source": []
  }
 ],
 "metadata": {
  "kernelspec": {
   "display_name": "Python 3",
   "language": "python",
   "name": "python3"
  },
  "language_info": {
   "codemirror_mode": {
    "name": "ipython",
    "version": 3
   },
   "file_extension": ".py",
   "mimetype": "text/x-python",
   "name": "python",
   "nbconvert_exporter": "python",
   "pygments_lexer": "ipython3",
   "version": "3.6.6"
  }
 },
 "nbformat": 4,
 "nbformat_minor": 2
}
